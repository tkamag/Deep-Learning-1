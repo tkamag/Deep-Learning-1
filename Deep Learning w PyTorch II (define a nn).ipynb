{
 "cells": [
  {
   "cell_type": "markdown",
   "metadata": {},
   "source": [
    "# Deep Learning with PyTorch II (nn, mnist)\n",
    "Second part of deep learning with PyTorch. \n",
    "- Part I: [Deep Learning w PyTorch I (intro)](https://github.com/tm1611/Deep-Learning/blob/master/Deep%20Learning%20w%20PyTorch%20I%20(intro).ipynb)\n",
    "- Part III: [Deep Learning w PyTorch III (training nn, theory)](https://github.com/tm1611/Deep-Learning/blob/master/Deep%20Learning%20w%20PyTorch%20III%20(training%20nn%2C%20theory).ipynb)\n",
    "- Part IV: [Deep Learning w PyTorch IV (mnist, mlp)](https://github.com/tm1611/Deep-Learning/blob/master/Deep%20Learning%20w%20PyTorch%20IV%20(mnist%2C%20mlp).ipynb)\n",
    "- Part V: [Deep Learning w PyTorch V (fmnist, mlp, inference and validation)](https://github.com/tm1611/Deep-Learning/blob/master/Deep%20Learning%20w%20PyTorch%20V%20(fmnist%2C%20mlp%2C%20inference%20and%20validation).ipynb)\n",
    "\n",
    "## 1. Introduction\n",
    "In this notebook we'll explore how to build a simple neural network architecture (multilayer perceptron) in PyTorch and how to preprocess the mnist image data. The objective is to build a network that to predict a handwritten number from a 28x28 pixel image with a neural network. Note that the actual training of this network will be done in part III.\n",
    "\n",
    "#### Neural Networks in PyTorch\n",
    "PyTorch has a function `nn` that provides a nice way to efficiently build large neural networks. In particular we will use the sequential container `nn.Sequential(...)` [link](https://pytorch.org/docs/stable/nn.html#sequential). Modules like a linear layer (`nn.Linear()`) which applies a linear transformation can be added. Alternatively, an ordered dict of module can be passed in. "
   ]
  },
  {
   "cell_type": "code",
   "execution_count": 1,
   "metadata": {},
   "outputs": [],
   "source": [
    "# Standard imports\n",
    "import numpy as np \n",
    "import matplotlib.pyplot as plt\n",
    "\n",
    "# Import visualization function\n",
    "import helper\n",
    "\n",
    "# torch import\n",
    "import torch\n",
    "from torch import nn\n",
    "import torch.nn.functional as F\n",
    "\n",
    "# data\n",
    "from torchvision import datasets, transforms\n",
    "\n",
    "# specify visualizations\n",
    "%matplotlib inline \n",
    "%config InlineBackend.figure_format = \"retina\""
   ]
  },
  {
   "cell_type": "markdown",
   "metadata": {},
   "source": [
    "## 2. The data\n",
    "For demonstration purposes we will use the [mnist data](https://en.wikipedia.org/wiki/MNIST_database) of handwritten numbers. \n",
    "\n",
    "- We have to normalize the data using `transforms.Compose()`.\n",
    " - Before downloading the data, we define how we want to transform the downloaded data in `transform`.\n",
    " - [torchvision.transforms](https://pytorch.org/docs/master/torchvision/transforms.html)\n",
    "- Using `datasets.MNIST` from `torchvision` to load the data, indicating the previously defined `transform`\n",
    " - [torchvision.datasets](https://pytorch.org/docs/stable/torchvision/datasets.html)\n",
    "- `DataLoader` gives us a batch of shuffled images.\n",
    " - [DataLoader](https://pytorch.org/docs/stable/data.html)\n",
    "\n",
    "Each image consists of one handwritten number between 0-9, yielding 10 different classes:\n",
    "<img src=\"images/mnist.png\">\n",
    "\n",
    "#### Import and process the data"
   ]
  },
  {
   "cell_type": "code",
   "execution_count": 2,
   "metadata": {},
   "outputs": [],
   "source": [
    "# Define transform to normalize the data\n",
    "transform = transforms.Compose([transforms.ToTensor(),\n",
    "                              transforms.Normalize((0.5,), (0.5,)),\n",
    "                              ])\n",
    "\n",
    "# Import data\n",
    "trainset = datasets.MNIST('~/.pytorch/MNIST_data/', download=True, train=True, transform=transform)\n",
    "\n",
    "# trainloader \n",
    "trainloader = torch.utils.data.DataLoader(trainset, batch_size = 64, shuffle=True)"
   ]
  },
  {
   "cell_type": "markdown",
   "metadata": {},
   "source": [
    "\n",
    "`trainloader` is an iterator. We can make use of an iterator with `iter(trainloader)` or use this in a for-loop trough the dataset as we will later when finding the optimal weights to our model:\n",
    "```python\n",
    "for image, label in trainloader:\n",
    "    # do things with images and labels\n",
    "```\n",
    "- Here: Grab the first batch to check the data\n",
    "- images is a tensor with size `(64,1,28,28)`. Hence 64 images per batch, 1 color channel, and 28x28 pixel images."
   ]
  },
  {
   "cell_type": "code",
   "execution_count": 3,
   "metadata": {},
   "outputs": [
    {
     "name": "stdout",
     "output_type": "stream",
     "text": [
      "Shape of images:\n",
      " torch.Size([64, 1, 28, 28])\n",
      "\n",
      "Shape of one image:\n",
      " torch.Size([1, 28, 28])\n"
     ]
    },
    {
     "data": {
      "image/png": "[encoded data removed]",
      "text/plain": [
       "<matplotlib.figure.Figure at 0x212b55e7f98>"
      ]
     },
     "metadata": {
      "image/png": {
       "height": 250,
       "width": 253
      },
      "needs_background": "light"
     },
     "output_type": "display_data"
    }
   ],
   "source": [
    "# one iteration = 64 images\n",
    "dataiter = iter(trainloader)\n",
    "images, labels = next(dataiter)\n",
    "\n",
    "print(\"Shape of images:\\n\", images.shape)\n",
    "print(\"\\nShape of one image:\\n\", images[0].shape)\n",
    "\n",
    "# Show one image\n",
    "plt.imshow(images[0].numpy().squeeze(), cmap = \"Greys_r\");"
   ]
  },
  {
   "cell_type": "markdown",
   "metadata": {},
   "source": [
    "#### Data flattening and a first untrained network\n",
    "\n",
    "Next step is to flatten the data in a way that our network can handle it. The network will be fully-connected (dense network), where each unit in one layer is connected to each unit in the next layer. \n",
    "\n",
    "In fully-connected networks, the input to each layer must be a one-dimensional vector. But our images are 28x28 pixels (2d Tensors), which must first be converted into 1d vectors of 784 input variables. We have to convert `(64,1,28,28)` to a shape of `(64, 784)`, which is called flattening the 2d to a 1d vector. Afterwards , we'll build a multilayer network with 784 input units, 256 hidden units and 10 output units (ten classes of numbers) starting with random tensors for the weights and biases. The activation function will a sigmoid function for the hidden layer.\n",
    "\n",
    "To sum up:\n",
    "- Convert `(64,1,28,28)` to a shape of `(64, 784)`\n",
    "- Build neural network\n",
    " - input layer: 784\n",
    " - activation function: sigmoid\n",
    " - hidden layer: 256\n",
    " - output units: 10"
   ]
  },
  {
   "cell_type": "code",
   "execution_count": 4,
   "metadata": {},
   "outputs": [
    {
     "name": "stdout",
     "output_type": "stream",
     "text": [
      "shape of X:\n",
      " torch.Size([64, 784])\n",
      "\n",
      "shape of W1:\n",
      " torch.Size([784, 256])\n",
      "\n",
      "shape of dot product X * W1 = h:\n",
      " torch.Size([64, 256])\n",
      "\n",
      "shape of W2:\n",
      " torch.Size([256, 10])\n",
      "\n",
      "shape of B1:\n",
      " torch.Size([256])\n",
      "\n",
      "shape of output:\n",
      " torch.Size([64, 10])\n"
     ]
    }
   ],
   "source": [
    "# Define sigmoid activation function\n",
    "def sigmoid(x):\n",
    "    \"\"\"Sigmoid activation function\n",
    "    Inputs\n",
    "    x: torch.Tensor\n",
    "    ---------\n",
    "    returns mapping of x \n",
    "    \"\"\"\n",
    "    return 1/(1+torch.exp(-x))\n",
    "\n",
    "# reshape features\n",
    "X = images.reshape(64, 784)\n",
    "# images.reshape(64, -1) to fit appropriately\n",
    "\n",
    "print(\"shape of X:\\n\", X.shape)\n",
    "\n",
    "n_records = X.shape[0]\n",
    "n_input = X.shape[1]\n",
    "n_hidden = 256\n",
    "n_output = 10 \n",
    "\n",
    "# Input layer: weight matrices, random init\n",
    "W1 = torch.randn(n_input, n_hidden)\n",
    "B1 = torch.randn(n_hidden)\n",
    "h = sigmoid(torch.mm(X, W1) + B1)\n",
    "print(\"\\nshape of W1:\\n\", W1.shape)\n",
    "print(\"\\nshape of dot product X * W1 = h:\\n\", h.shape)\n",
    "\n",
    "# hidden layer: weight matrics, random init\n",
    "W2 = torch.randn(h.shape[1], n_output)\n",
    "B2 = torch.randn(n_output)\n",
    "output = sigmoid(torch.mm(h, W2) + B2)\n",
    "\n",
    "print(\"\\nshape of W2:\\n\", W2.shape)\n",
    "print(\"\\nshape of B1:\\n\", B1.shape)\n",
    "print(\"\\nshape of output:\\n\", output.shape)"
   ]
  },
  {
   "cell_type": "markdown",
   "metadata": {},
   "source": [
    "#### Softmax activation function\n",
    "Note that we have 10 output classes for our network. We would like to map those to a probability distribution over the classes with sum of probability over all classes equals one to tell us how likely the image belongs to a class. To do this we'll use the [**softmax** function](https://en.wikipedia.org/wiki/Softmax_function), which also known as multinomial distribution function in statistics and is a generalization of the binary sigmoid function to account for multiple classes. \n",
    "\n",
    "The softmax function for two classes results in the sigmoid function. Mathematically this looks like: \n",
    "\n",
    "$$\n",
    "\\begin{align}\n",
    "\\Large \\sigma(x_i) = \\frac{e^{x_i}}{\\sum_{k=1}^K{e^{x_k}}}\n",
    "\\end{align}\n",
    "$$\n",
    "\n",
    "This function squishes each input $x_i$ between 0 and 1 and normalizes the values to give a proper probability distribution where the probabilities sum up to one.\n",
    "\n",
    "We'll now define the softmax function and map the output that we have calculated to a probability. Note that the model has not been trained yet (i.e. the weights are random) and therefore the resulting probabilities are not meaningful yet. Moreover, we matrix of probabilities for one batch of images. This means for every image we get a probability distribution for all ten classes."
   ]
  },
  {
   "cell_type": "code",
   "execution_count": 5,
   "metadata": {},
   "outputs": [
    {
     "name": "stdout",
     "output_type": "stream",
     "text": [
      "Probability of untrained network for first image:\n",
      "\n",
      "Probability of class1:\n",
      " tensor(0.1244)\n",
      "Probability of class2:\n",
      " tensor(0.1177)\n",
      "Probability of class3:\n",
      " tensor(0.1242)\n",
      "Probability of class4:\n",
      " tensor(0.1244)\n",
      "Probability of class5:\n",
      " tensor(0.0458)\n",
      "Probability of class6:\n",
      " tensor(0.1244)\n",
      "Probability of class7:\n",
      " tensor(0.0459)\n",
      "Probability of class8:\n",
      " tensor(0.1244)\n",
      "Probability of class9:\n",
      " tensor(0.0458)\n",
      "Probability of class10:\n",
      " tensor(0.1232)\n"
     ]
    }
   ],
   "source": [
    "# Softmax function \n",
    "def softmax(x):\n",
    "    a = torch.exp(x) # Exponential of all 64 images\n",
    "    b = torch.sum(a, dim=1).reshape(64,1) # sum of all rows\n",
    "    y = a/b\n",
    "    return y\n",
    "\n",
    "# Apply softmax to output\n",
    "props = softmax(output)\n",
    "print(\"Probability of untrained network for first image:\\n\")\n",
    "\n",
    "for i in range(len(props[0])):\n",
    "    print(\"Probability of class\"+str(i+1)+\":\\n \"+str(props[0][i]))"
   ]
  },
  {
   "cell_type": "markdown",
   "metadata": {},
   "source": [
    "So far the probabilities are based on random weights. Adjusting the weights is the goal when it comes to training the network."
   ]
  },
  {
   "cell_type": "markdown",
   "metadata": {},
   "source": [
    "## 3. Building Networks in PyTorch\n",
    "We'll use the module `nn` and its functions to build a neural network with the same properties as we have previously used, i.e.\n",
    "- 784 input units + sigmoid activation\n",
    "- 256 hidden units + sigmoid activation \n",
    "- 10 output units + softmax activation\n",
    "\n",
    "One very elegant solution is to create a new class, which is a concept of [Object-oriented programming (OOP)](https://realpython.com/python3-object-oriented-programming/).\n",
    "\n",
    "We will create a new class, named `Network`. Note that there are other options to use PyTorch for building a neural network which will be shown as well."
   ]
  },
  {
   "cell_type": "code",
   "execution_count": 6,
   "metadata": {},
   "outputs": [],
   "source": [
    "# define classs\n",
    "class Network(nn.Module):\n",
    "    def __init__(self):\n",
    "        super().__init__()\n",
    "        # layers and activation functions\n",
    "        self.hidden = nn.Linear(784, 256)\n",
    "        self.output = nn.Linear(256, 10)\n",
    "        self.sigmoid = nn.Sigmoid()\n",
    "        self.softmax = nn.Softmax(dim=1)\n",
    "    \n",
    "    # forward pass\n",
    "    def forward(self, x):\n",
    "        x = self.hidden(x)\n",
    "        x = self.sigmoid(x)\n",
    "        x = self.output(x)\n",
    "        x = self.softmax(x)\n",
    "        \n",
    "        return x"
   ]
  },
  {
   "cell_type": "markdown",
   "metadata": {},
   "source": [
    "Let's go through this bit by bit.\n",
    "\n",
    "```python\n",
    "class Network(nn.Module):\n",
    "```\n",
    "Here we're inheriting from `nn.Module`. \n",
    "\n",
    "Combined with `super().__init__()` this creates a class that tracks the architecture and provides useful methods and attributes. It is mandatory to inherit from `nn.Module` when you're creating a class for your network. The name of the class itself can be anything.\n",
    "\n",
    "```python\n",
    "self.hidden = nn.Linear(784, 256)\n",
    "```\n",
    "\n",
    "This line creates a module for a linear transformation, $x\\mathbf{W} + b$, with 784 inputs and 256 outputs and assigns it to `self.hidden`. The module automatically creates the weight and bias tensors which we'll use in the `forward` method. You can access the weight and bias tensors once the network (`net`) is created with `net.hidden.weight` and `net.hidden.bias`.\n",
    "\n",
    "```python\n",
    "self.output = nn.Linear(256, 10)\n",
    "```\n",
    "\n",
    "Similarly, this creates another linear transformation with 256 inputs and 10 outputs.\n",
    "\n",
    "```python\n",
    "self.sigmoid = nn.Sigmoid()\n",
    "self.softmax = nn.Softmax(dim=1)\n",
    "```\n",
    "\n",
    "Here we define operations for the sigmoid activation and softmax output. Setting `dim=1` in `nn.Softmax(dim=1)` calculates softmax across the columns.\n",
    "\n",
    "```python\n",
    "def forward(self, x):\n",
    "```\n",
    "\n",
    "PyTorch networks created with `nn.Module` must have a `forward` method defined. It takes in a tensor `x` and passes it through the operations, defined in the `__init__` method.\n",
    "\n",
    "```python\n",
    "x = self.hidden(x)\n",
    "x = self.sigmoid(x)\n",
    "x = self.output(x)\n",
    "x = self.softmax(x)\n",
    "```\n",
    "\n",
    "Now the input tensor `x` is passed through each operation a reassigned to `x` in a sequence of operations. We can see that the input tensor goes through the hidden layer, then a sigmoid function, then the output layer, and finally the softmax function. It doesn't matter what the name of the variables are, as long as the inputs and outputs of the operations match the network architecture you want to build. The order in which you define things in the `__init__` method doesn't matter, but you'll need to sequence the operations correctly in the `forward` method.\n",
    "\n",
    "Now we can create a `Network` object."
   ]
  },
  {
   "cell_type": "code",
   "execution_count": 7,
   "metadata": {},
   "outputs": [
    {
     "data": {
      "text/plain": [
       "Network(\n",
       "  (hidden): Linear(in_features=784, out_features=256, bias=True)\n",
       "  (output): Linear(in_features=256, out_features=10, bias=True)\n",
       "  (sigmoid): Sigmoid()\n",
       "  (softmax): Softmax()\n",
       ")"
      ]
     },
     "execution_count": 7,
     "metadata": {},
     "output_type": "execute_result"
    }
   ],
   "source": [
    "# Initialize an object of the class\n",
    "model = Network()\n",
    "model"
   ]
  },
  {
   "cell_type": "markdown",
   "metadata": {},
   "source": [
    "#### Network representation with `nn.Module` and  `torch.nn.functional`\n",
    "We can define the network possibly more concisely and clearly using the `torch.nn.functional` [(link)](https://pytorch.org/docs/stable/nn.html#torch-nn-functional) module. This is the most common way you'll see networks defined as many operations are simple element-wise functions. We normally import this module as `F`, i.e.\n",
    "```python\n",
    "import torch.nn.functional as F\n",
    "```"
   ]
  },
  {
   "cell_type": "code",
   "execution_count": 8,
   "metadata": {},
   "outputs": [
    {
     "data": {
      "text/plain": [
       "Network(\n",
       "  (hidden1): Linear(in_features=784, out_features=128, bias=True)\n",
       "  (hidden2): Linear(in_features=128, out_features=64, bias=True)\n",
       "  (output): Linear(in_features=64, out_features=10, bias=True)\n",
       ")"
      ]
     },
     "execution_count": 8,
     "metadata": {},
     "output_type": "execute_result"
    }
   ],
   "source": [
    "# Define class with nn.Module and F\n",
    "class Network(nn.Module):\n",
    "    def __init__(self):\n",
    "        super().__init__()\n",
    "        self.hidden1 = nn.Linear(784, 128)\n",
    "        self.hidden2 = nn.Linear(128, 64) \n",
    "        self.output = nn.Linear(64, 10)\n",
    "        \n",
    "    # forward method\n",
    "    def forward(self, x):\n",
    "        ''' Forward pass though the net\n",
    "        returns output '''\n",
    "        x = self.hidden1(x)\n",
    "        x = F.relu(x)\n",
    "        x = self.hidden2(x)\n",
    "        x = F.relu(x)\n",
    "        x = self.output(x)\n",
    "        x = F.softmax(x, dim=1)\n",
    "\n",
    "        return x\n",
    "\n",
    "model = Network()\n",
    "model"
   ]
  },
  {
   "cell_type": "markdown",
   "metadata": {},
   "source": [
    "#### Activation Functions \n",
    "We have already used the sigmoid activation function.  \n",
    "\n",
    "<img src=\"images/activation_functions.png\">\n",
    "\n",
    "In general, ReLu is almost exclusively used for hidden layers, whereas sigmoid is mostly used for binary classification and softmax for categorical classification and be used to ensure nonlinearity for the output.\n",
    "\n",
    "The network that we've defined as `Network` class looks like the following:\n",
    "\n",
    "<img src=\"images/neural_net.png\">"
   ]
  },
  {
   "cell_type": "markdown",
   "metadata": {},
   "source": [
    "#### Initializing weights and biases\n",
    "The weights are automatically initialized but it's possible to customize them. The weights and biases are tensors attached to the layer we defined and can be scaled using the following commands."
   ]
  },
  {
   "cell_type": "code",
   "execution_count": 9,
   "metadata": {},
   "outputs": [
    {
     "name": "stdout",
     "output_type": "stream",
     "text": [
      "torch.Size([128, 784])\n",
      "torch.Size([128])\n"
     ]
    },
    {
     "data": {
      "text/plain": [
       "tensor([[-0.0141,  0.0117,  0.0015,  ..., -0.0064,  0.0051, -0.0164],\n",
       "        [-0.0063, -0.0054, -0.0054,  ...,  0.0081,  0.0009, -0.0028],\n",
       "        [-0.0118, -0.0125,  0.0082,  ..., -0.0022,  0.0018, -0.0037],\n",
       "        ...,\n",
       "        [ 0.0247, -0.0050, -0.0090,  ...,  0.0014, -0.0036, -0.0070],\n",
       "        [ 0.0063,  0.0062,  0.0039,  ..., -0.0077,  0.0045,  0.0085],\n",
       "        [ 0.0002, -0.0005, -0.0075,  ...,  0.0234,  0.0213, -0.0193]])"
      ]
     },
     "execution_count": 9,
     "metadata": {},
     "output_type": "execute_result"
    }
   ],
   "source": [
    "print(model.hidden1.weight.shape) # Call weight (shape) for first layer\n",
    "print(model.hidden1.bias.shape) # Call Bias (shape) for first layer\n",
    "\n",
    "## Modify them \n",
    "model.hidden1.bias.data.fill_(0) # Set them to zero\n",
    "\n",
    "# sample from random normal with standard dev = 0.01\n",
    "model.hidden1.weight.data.normal_(std=0.01)"
   ]
  },
  {
   "cell_type": "markdown",
   "metadata": {},
   "source": [
    "#### Forward Pass\n",
    "Passing an input through the model results in the output y of the network. This output can be mappet to a probability. "
   ]
  },
  {
   "cell_type": "code",
   "execution_count": 10,
   "metadata": {},
   "outputs": [
    {
     "data": {
      "image/png": "[encoded data removed]",
      "text/plain": [
       "<matplotlib.figure.Figure at 0x212b7e75ac8>"
      ]
     },
     "metadata": {
      "image/png": {
       "height": 224,
       "width": 423
      },
      "needs_background": "light"
     },
     "output_type": "display_data"
    }
   ],
   "source": [
    "dataiter = iter(trainloader)\n",
    "images, labels = dataiter.next()\n",
    "\n",
    "# Resize images into a 1D vector\n",
    "# new shape is (batch size, color channels, \n",
    "#image pixels)\n",
    "images.resize_(64, 1, 784)\n",
    "\n",
    "# Forward pass through the network\n",
    "img_idx = 0\n",
    "\n",
    "# probability for image with index img_idx\n",
    "ps = model.forward(images[img_idx,:])\n",
    "img = images[img_idx]\n",
    "helper.view_classify(img.view(1,28,28), ps)"
   ]
  },
  {
   "cell_type": "markdown",
   "metadata": {},
   "source": [
    "Note that our network still has no idea what this digit is and the weights are random. The network requires training, which will be our next step."
   ]
  },
  {
   "cell_type": "markdown",
   "metadata": {},
   "source": [
    "#### Network representation with `nn.Sequential`\n",
    "\n",
    "PyTorch provides a convenient way to build networks like this where a tensor is passed sequentially through operations, `nn.Sequential` ([documentation](https://pytorch.org/docs/master/nn.html#torch.nn.Sequential)). Using this to build the equivalent network. "
   ]
  },
  {
   "cell_type": "code",
   "execution_count": 11,
   "metadata": {},
   "outputs": [
    {
     "name": "stdout",
     "output_type": "stream",
     "text": [
      "Sequential(\n",
      "  (0): Linear(in_features=784, out_features=128, bias=True)\n",
      "  (1): ReLU()\n",
      "  (2): Linear(in_features=128, out_features=64, bias=True)\n",
      "  (3): ReLU()\n",
      "  (4): Linear(in_features=64, out_features=10, bias=True)\n",
      "  (5): Softmax()\n",
      ")\n"
     ]
    },
    {
     "data": {
      "image/png": "[encoded data removed]",
      "text/plain": [
       "<matplotlib.figure.Figure at 0x212bad0bd68>"
      ]
     },
     "metadata": {
      "image/png": {
       "height": 224,
       "width": 423
      },
      "needs_background": "light"
     },
     "output_type": "display_data"
    }
   ],
   "source": [
    "# Define input size, hidden layer and output size\n",
    "input_size = 784\n",
    "hidden_sizes = [128, 64]\n",
    "output_size = 10\n",
    "\n",
    "# Build a feed-forward network\n",
    "model = nn.Sequential(nn.Linear(input_size, hidden_sizes[0]),\n",
    "                      nn.ReLU(),\n",
    "                      nn.Linear(hidden_sizes[0], hidden_sizes[1]),\n",
    "                      nn.ReLU(),\n",
    "                      nn.Linear(hidden_sizes[1], output_size),\n",
    "                      nn.Softmax(dim=1))\n",
    "print(model)\n",
    "\n",
    "# Forward pass through the network\n",
    "images, labels = next(iter(trainloader))\n",
    "images.resize_(images.shape[0], 1, 784)\n",
    "ps = model.forward(images[0,:])\n",
    "helper.view_classify(images[0].view(1, 28, 28), ps)"
   ]
  },
  {
   "cell_type": "code",
   "execution_count": 12,
   "metadata": {},
   "outputs": [
    {
     "name": "stdout",
     "output_type": "stream",
     "text": [
      "Linear(in_features=784, out_features=128, bias=True)\n"
     ]
    },
    {
     "data": {
      "text/plain": [
       "Parameter containing:\n",
       "tensor([[-1.8776e-02, -2.7378e-02, -2.9365e-02,  ..., -5.0162e-03,\n",
       "         -2.0459e-02, -5.8111e-03],\n",
       "        [ 1.2062e-02, -2.6622e-02,  2.5053e-02,  ..., -2.2188e-02,\n",
       "         -7.8618e-03, -3.4765e-02],\n",
       "        [ 3.4239e-02,  2.8296e-02, -2.7773e-02,  ...,  1.5209e-02,\n",
       "         -1.7090e-02, -2.5543e-03],\n",
       "        ...,\n",
       "        [-1.3620e-05,  1.0259e-02,  4.1379e-03,  ..., -3.9067e-03,\n",
       "         -2.8219e-02, -3.3032e-02],\n",
       "        [ 4.2670e-03, -3.5391e-02,  1.8929e-02,  ...,  2.4022e-02,\n",
       "         -2.4955e-02, -2.7362e-03],\n",
       "        [-8.2356e-03,  6.5837e-03,  2.3473e-03,  ...,  2.0102e-02,\n",
       "          1.4337e-02, -3.2248e-03]], requires_grad=True)"
      ]
     },
     "execution_count": 12,
     "metadata": {},
     "output_type": "execute_result"
    }
   ],
   "source": [
    "# Show first layer of the model and weight parameters\n",
    "print(model[0])\n",
    "model[0].weight"
   ]
  },
  {
   "cell_type": "markdown",
   "metadata": {},
   "source": [
    "#### Model representation using `nn.Sequential` and `OrderedDict`\n",
    "We can also pass in an `OrderedDict` to name the individual layers and operations, instead of using incremental integers. Note that dictionary keys must be unique, so each operation must have a different name."
   ]
  },
  {
   "cell_type": "code",
   "execution_count": 13,
   "metadata": {},
   "outputs": [
    {
     "name": "stdout",
     "output_type": "stream",
     "text": [
      "Complete model:\n",
      " Sequential(\n",
      "  (fc1): Linear(in_features=784, out_features=128, bias=True)\n",
      "  (relu1): ReLU()\n",
      "  (fc2): Linear(in_features=128, out_features=64, bias=True)\n",
      "  (relu2): ReLU()\n",
      "  (output): Linear(in_features=64, out_features=10, bias=True)\n",
      "  (softmax): Softmax()\n",
      ")\n",
      "\n",
      "First layer:\n",
      " Linear(in_features=784, out_features=128, bias=True)\n",
      "\n",
      "First layer (alternatively):\n",
      " Linear(in_features=784, out_features=128, bias=True)\n"
     ]
    }
   ],
   "source": [
    "# import OrderedDict\n",
    "from collections import OrderedDict\n",
    "\n",
    "# Model representation as OrderedDict\n",
    "model = nn.Sequential(OrderedDict([\n",
    "                      ('fc1', nn.Linear(input_size, hidden_sizes[0])),\n",
    "                      ('relu1', nn.ReLU()),\n",
    "                      ('fc2', nn.Linear(hidden_sizes[0], hidden_sizes[1])),\n",
    "                      ('relu2', nn.ReLU()),\n",
    "                      ('output', nn.Linear(hidden_sizes[1], output_size)),\n",
    "                      ('softmax', nn.Softmax(dim=1))]))\n",
    "\n",
    "print(\"Complete model:\\n\",model)\n",
    "print(\"\\nFirst layer:\\n\",model[0])\n",
    "\n",
    "# Layers can be accessed by name\n",
    "print(\"\\nFirst layer (alternatively):\\n\",model.fc1)"
   ]
  },
  {
   "cell_type": "markdown",
   "metadata": {},
   "source": [
    "### Summary and next steps:\n",
    "We have now seen various methods how to define the architecture of a neural network. Other types of networks can be easily implemented with the same toolkit using other types of layers and functions of `nn.functional` (for example convolutional neural networks). \n",
    "\n",
    "Our next step is to train the shown neural networks by adjusting the weights. This is what makes the neural network useful for prediction."
   ]
  }
 ],
 "metadata": {
  "kernelspec": {
   "display_name": "Python [conda env:Anaconda3]",
   "language": "python",
   "name": "conda-env-Anaconda3-py"
  },
  "language_info": {
   "codemirror_mode": {
    "name": "ipython",
    "version": 3
   },
   "file_extension": ".py",
   "mimetype": "text/x-python",
   "name": "python",
   "nbconvert_exporter": "python",
   "pygments_lexer": "ipython3",
   "version": "3.6.6"
  }
 },
 "nbformat": 4,
 "nbformat_minor": 2
}
