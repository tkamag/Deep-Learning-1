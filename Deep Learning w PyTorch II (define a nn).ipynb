{
 "cells": [
  {
   "cell_type": "markdown",
   "metadata": {},
   "source": [
    "# Deep Learning with PyTorch II (nn, mnist)\n",
    "Second part of deep learning with PyTorch. \n",
    "- Part 1: \n",
    "\n",
    "## 1. Introduction\n",
    "In this notebook we'll explore how to build a simple neural network architecture (multilayer perceptron) in PyTorch and how to preprocess the mnist image data. The objective is to predict a handwritten number from a 28x28 pixel image with a neural network.\n",
    "\n",
    "#### Neural Networks in PyTorch\n",
    "PyTorch has a function `nn` that provides a nice way to efficiently build large neural networks. "
   ]
  },
  {
   "cell_type": "code",
   "execution_count": 1,
   "metadata": {},
   "outputs": [],
   "source": [
    "# Standard imports\n",
    "import numpy as np \n",
    "import matplotlib.pyplot as plt\n",
    "\n",
    "# Import visualization function\n",
    "import helper\n",
    "\n",
    "# torch import\n",
    "import torch\n",
    "from torch import nn\n",
    "import torch.nn.functional as F\n",
    "\n",
    "# data\n",
    "from torchvision import datasets, transforms\n",
    "\n",
    "# specify visualizations\n",
    "%matplotlib inline \n",
    "%config InlineBackend.figure_format = \"retina\""
   ]
  },
  {
   "cell_type": "markdown",
   "metadata": {},
   "source": [
    "## 2. The data\n",
    "For demonstration we will use the [mnist](https://en.wikipedia.org/wiki/MNIST_database) of handwritten numbers. \n",
    "\n",
    "- We have to normalize the data using `transforms.Compose()`.\n",
    " - Before downloading the data, we define how we want to transform the downloaded data in `transform`.\n",
    " - [torchvision.transforms](https://pytorch.org/docs/master/torchvision/transforms.html)\n",
    "- Using `datasets.MNIST` from `torchvision` to load the data, indicating the previously defined `transform`\n",
    " - [torchvision.datasets](https://pytorch.org/docs/stable/torchvision/datasets.html)\n",
    "- `DataLoader` gives us a batch of 64 shuffled images .\n",
    " - [DataLoader](https://pytorch.org/docs/stable/data.html)\n",
    "\n",
    "Each image consists of one handwritten number between 0-9, yielding 10 different classes:\n",
    "<img src=\"images/mnist.png\">\n",
    "\n",
    "#### Import and process the data"
   ]
  },
  {
   "cell_type": "code",
   "execution_count": 2,
   "metadata": {},
   "outputs": [],
   "source": [
    "# Define transform to normalize the data\n",
    "transform = transforms.Compose([transforms.ToTensor(),\n",
    "                              transforms.Normalize((0.5,), (0.5,)),\n",
    "                              ])\n",
    "\n",
    "# Import data\n",
    "trainset = datasets.MNIST('~/.pytorch/MNIST_data/', download=True, train=True, transform=transform)\n",
    "\n",
    "# trainloader \n",
    "trainloader = torch.utils.data.DataLoader(trainset, batch_size = 64, shuffle=True)"
   ]
  },
  {
   "cell_type": "markdown",
   "metadata": {},
   "source": [
    "\n",
    "`trainloader` is an iterator. We can make use of an iterator with `iter(trainloader)` or use this in a standard for-loop trough the dataset:\n",
    "```python\n",
    "for image, label in trainloader:\n",
    "    # do things with images and labels\n",
    "```\n",
    "- Here: Grab the first batch to check the data\n",
    "- images is a tensor with size `(64,1,28,28)`. Hence 64 images per batch, 1 color channel, and 28x28 pixel images."
   ]
  },
  {
   "cell_type": "code",
   "execution_count": 3,
   "metadata": {},
   "outputs": [
    {
     "name": "stdout",
     "output_type": "stream",
     "text": [
      "Shape of images:\n",
      " torch.Size([64, 1, 28, 28])\n",
      "\n",
      "Shape of one image:\n",
      " torch.Size([1, 28, 28])\n"
     ]
    },
    {
     "data": {
      "image/png": "[encoded data removed]",
      "text/plain": [
       "<matplotlib.figure.Figure at 0x2c68e6587f0>"
      ]
     },
     "metadata": {
      "image/png": {
       "height": 250,
       "width": 253
      },
      "needs_background": "light"
     },
     "output_type": "display_data"
    }
   ],
   "source": [
    "# one iteration = 64 images\n",
    "dataiter = iter(trainloader)\n",
    "images, labels = next(dataiter)\n",
    "\n",
    "print(\"Shape of images:\\n\", images.shape)\n",
    "print(\"\\nShape of one image:\\n\", images[0].shape)\n",
    "\n",
    "# Show one image\n",
    "plt.imshow(images[0].numpy().squeeze(), cmap = \"Greys_r\");"
   ]
  },
  {
   "cell_type": "markdown",
   "metadata": {},
   "source": [
    "#### Data flattening and a first untrained network\n",
    "\n",
    "Next step is to flatten the data in a way that our network can handle it. The network will be fully-connected (dense network), where each unit in one layer is connected to each unit in the next layer. \n",
    "\n",
    "In fully-connected networks, the input to each layer must be a one-dimensional vector. But our images are 28x28 pixels (2d Tensors), which must first be converted into 1d vectors of 784 input variables. We have to convert `(64,1,28,28)` to a shape of `(64, 784)`, which is called flattening the 2d to a 1d vector. Afterwards , we'll build a multilayer network with 784 input units, 256 hidden units and 10 output units (ten classes of numbers) starting with random tensors for the weights and biases. The activation function will a sigmoid function for the hidden layer.\n",
    "\n",
    "To sum up:\n",
    "- Convert `(64,1,28,28)` to a shape of `(64, 784)`\n",
    "- Build neural network\n",
    " - input layer: 784\n",
    " - activation function: sigmoid\n",
    " - hidden layer: 256\n",
    " - output units: 10"
   ]
  },
  {
   "cell_type": "code",
   "execution_count": 4,
   "metadata": {},
   "outputs": [
    {
     "name": "stdout",
     "output_type": "stream",
     "text": [
      "shape of X:\n",
      " torch.Size([64, 784])\n",
      "\n",
      "shape of W1:\n",
      " torch.Size([784, 256])\n",
      "\n",
      "shape of dot product X * W1 = h:\n",
      " torch.Size([64, 256])\n",
      "\n",
      "shape of W2:\n",
      " torch.Size([256, 10])\n",
      "\n",
      "shape of B1:\n",
      " torch.Size([256])\n",
      "\n",
      "shape of output:\n",
      " torch.Size([64, 10])\n"
     ]
    }
   ],
   "source": [
    "# Define sigmoid activation function\n",
    "def sigmoid(x):\n",
    "    \"\"\"Sigmoid activation function\n",
    "    Inputs\n",
    "    x: torch.Tensor\n",
    "    ---------\n",
    "    returns mapping of x \n",
    "    \"\"\"\n",
    "    return 1/(1+torch.exp(-x))\n",
    "\n",
    "# reshape features\n",
    "X = images.reshape(64, 784)\n",
    "# images.reshape(64, -1) to fit appropriately\n",
    "\n",
    "print(\"shape of X:\\n\", X.shape)\n",
    "\n",
    "n_records = X.shape[0]\n",
    "n_input = X.shape[1]\n",
    "n_hidden = 256\n",
    "n_output = 10 \n",
    "\n",
    "# Input layer: weight matrices, random init\n",
    "W1 = torch.randn(n_input, n_hidden)\n",
    "B1 = torch.randn(n_hidden)\n",
    "h = sigmoid(torch.mm(X, W1) + B1)\n",
    "print(\"\\nshape of W1:\\n\", W1.shape)\n",
    "print(\"\\nshape of dot product X * W1 = h:\\n\", h.shape)\n",
    "\n",
    "# hidden layer: weight matrics, random init\n",
    "W2 = torch.randn(h.shape[1], n_output)\n",
    "B2 = torch.randn(n_output)\n",
    "output = sigmoid(torch.mm(h, W2) + B2)\n",
    "\n",
    "print(\"\\nshape of W2:\\n\", W2.shape)\n",
    "print(\"\\nshape of B1:\\n\", B1.shape)\n",
    "print(\"\\nshape of output:\\n\", output.shape)"
   ]
  },
  {
   "cell_type": "markdown",
   "metadata": {},
   "source": [
    "#### Softmax activation function\n",
    "Note that we have 10 output classes for our network. We would like to map those to a probability distribution over the classes with sum of probability over all classes equals one to tell us how likely the image belongs to a class. To do this we'll use the [**softmax** function](https://en.wikipedia.org/wiki/Softmax_function), which also known as multinomial distribution function in statistics and is a generalization of the binary sigmoid function to account for multiple classes. \n",
    "\n",
    "The softmax function for two classes results in the sigmoid function. Mathematically this looks like: \n",
    "\n",
    "$$\n",
    "\\begin{align}\n",
    "\\Large \\sigma(x_i) = \\frac{e^{x_i}}{\\sum_{k=1}^K{e^{x_k}}}\n",
    "\\end{align}\n",
    "$$\n",
    "\n",
    "This function squishes each input $x_i$ between 0 and 1 and normalizes the values to give a proper probability distribution where the probabilities sum up to one.\n",
    "\n",
    "We'll now define the softmax function and map the output that we have calculated to a probability. Note that the model has not been trained yet (i.e. the weights are random) and therefore the resulting probabilities are not meaningful yet. Moreover, we matrix of probabilities for one batch of images. This means for every image we get a probability distribution for all ten classes."
   ]
  },
  {
   "cell_type": "code",
   "execution_count": 5,
   "metadata": {},
   "outputs": [
    {
     "name": "stdout",
     "output_type": "stream",
     "text": [
      "Probability of untrained network for first image:\n",
      "\n",
      "Probability of class1:\n",
      " tensor(0.1463)\n",
      "Probability of class2:\n",
      " tensor(0.1463)\n",
      "Probability of class3:\n",
      " tensor(0.1454)\n",
      "Probability of class4:\n",
      " tensor(0.1462)\n",
      "Probability of class5:\n",
      " tensor(0.0538)\n",
      "Probability of class6:\n",
      " tensor(0.1463)\n",
      "Probability of class7:\n",
      " tensor(0.0538)\n",
      "Probability of class8:\n",
      " tensor(0.0538)\n",
      "Probability of class9:\n",
      " tensor(0.0538)\n",
      "Probability of class10:\n",
      " tensor(0.0541)\n"
     ]
    }
   ],
   "source": [
    "# Softmax function \n",
    "def softmax(x):\n",
    "    a = torch.exp(x) # Exponential of all 64 images\n",
    "    b = torch.sum(a, dim=1).reshape(64,1) # sum of all rows\n",
    "    y = a/b\n",
    "    return y\n",
    "\n",
    "# Apply softmax to output\n",
    "props = softmax(output)\n",
    "print(\"Probability of untrained network for first image:\\n\")\n",
    "\n",
    "for i in range(len(props[0])):\n",
    "    print(\"Probability of class\"+str(i+1)+\":\\n \"+str(props[0][i]))"
   ]
  },
  {
   "cell_type": "markdown",
   "metadata": {},
   "source": [
    "## 3. Building Networks in PyTorch\n",
    "We'll use the module `nn` and its functions to build a neural network with the same properties as we have previously used, i.e.\n",
    "- 784 input units + sigmoid activation\n",
    "- 256 hidden units + sigmoid activation \n",
    "- 10 output units + softmax activation\n",
    "\n",
    "One - in my opinion - very elegant solution is to create a new class, which is a concept of [Object-oriented programming (OOP)](https://realpython.com/python3-object-oriented-programming/).\n",
    "\n",
    "We will create a new class, named `Network`. Note that ther are further options to use PyTorch for building a neural network which will be used later on."
   ]
  },
  {
   "cell_type": "code",
   "execution_count": 6,
   "metadata": {},
   "outputs": [],
   "source": [
    "# define classs\n",
    "class Network(nn.Module):\n",
    "    def __init__(self):\n",
    "        super().__init__()\n",
    "        # layers and activation functions\n",
    "        self.hidden = nn.Linear(784, 256)\n",
    "        self.output = nn.Linear(256, 10)\n",
    "        self.sigmoid = nn.Sigmoid()\n",
    "        self.softmax = nn.Softmax(dim=1)\n",
    "    \n",
    "    # forward pass\n",
    "    def forward(self, x):\n",
    "        x = self.hidden(x)\n",
    "        x = self.sigmoid(x)\n",
    "        x = self.output(x)\n",
    "        x = self.softmax(x)\n",
    "        \n",
    "        return x"
   ]
  },
  {
   "cell_type": "markdown",
   "metadata": {},
   "source": [
    "Let's go through this bit by bit.\n",
    "\n",
    "```python\n",
    "class Network(nn.Module):\n",
    "```\n",
    "Here we're inheriting from `nn.Module`. \n",
    "\n",
    "Combined with `super().__init__()` this creates a class that tracks the architecture and provides useful methods and attributes. It is mandatory to inherit from `nn.Module` when you're creating a class for your network. The name of the class itself can be anything.\n",
    "\n",
    "```python\n",
    "self.hidden = nn.Linear(784, 256)\n",
    "```\n",
    "\n",
    "This line creates a module for a linear transformation, $x\\mathbf{W} + b$, with 784 inputs and 256 outputs and assigns it to `self.hidden`. The module automatically creates the weight and bias tensors which we'll use in the `forward` method. You can access the weight and bias tensors once the network (`net`) is created with `net.hidden.weight` and `net.hidden.bias`.\n",
    "\n",
    "```python\n",
    "self.output = nn.Linear(256, 10)\n",
    "```\n",
    "\n",
    "Similarly, this creates another linear transformation with 256 inputs and 10 outputs.\n",
    "\n",
    "```python\n",
    "self.sigmoid = nn.Sigmoid()\n",
    "self.softmax = nn.Softmax(dim=1)\n",
    "```\n",
    "\n",
    "Here we define operations for the sigmoid activation and softmax output. Setting `dim=1` in `nn.Softmax(dim=1)` calculates softmax across the columns.\n",
    "\n",
    "```python\n",
    "def forward(self, x):\n",
    "```\n",
    "\n",
    "PyTorch networks created with `nn.Module` must have a `forward` method defined. It takes in a tensor `x` and passes it through the operations, defined in the `__init__` method.\n",
    "\n",
    "```python\n",
    "x = self.hidden(x)\n",
    "x = self.sigmoid(x)\n",
    "x = self.output(x)\n",
    "x = self.softmax(x)\n",
    "```\n",
    "\n",
    "Now the input tensor `x` is passed through each operation a reassigned to `x` in a sequence of operations. We can see that the input tensor goes through the hidden layer, then a sigmoid function, then the output layer, and finally the softmax function. It doesn't matter what the name of the variables are, as long as the inputs and outputs of the operations match the network architecture you want to build. The order in which you define things in the `__init__` method doesn't matter, but you'll need to sequence the operations correctly in the `forward` method.\n",
    "\n",
    "Now we can create a `Network` object."
   ]
  },
  {
   "cell_type": "code",
   "execution_count": 7,
   "metadata": {},
   "outputs": [
    {
     "data": {
      "text/plain": [
       "Network(\n",
       "  (hidden): Linear(in_features=784, out_features=256, bias=True)\n",
       "  (output): Linear(in_features=256, out_features=10, bias=True)\n",
       "  (sigmoid): Sigmoid()\n",
       "  (softmax): Softmax()\n",
       ")"
      ]
     },
     "execution_count": 7,
     "metadata": {},
     "output_type": "execute_result"
    }
   ],
   "source": [
    "# Initialize an object of the class\n",
    "model = Network()\n",
    "model"
   ]
  },
  {
   "cell_type": "markdown",
   "metadata": {},
   "source": [
    "We can define the network possibly more concisely and clearly using the `torch.nn.functional` module. This is the most common way you'll see networks defined as many operations are simple element-wise functions. We normally import this module as `F`, `import torch.nn.functional as F`."
   ]
  },
  {
   "cell_type": "code",
   "execution_count": 8,
   "metadata": {},
   "outputs": [],
   "source": [
    "# Define class with nn.Module and F\n",
    "class Network(nn.Module):\n",
    "    def __init__(self):\n",
    "        super().__init__()\n",
    "        self.hidden = nn.Linear(784, 256)\n",
    "        self.output = nn.Linear(256, 10)\n",
    "        \n",
    "    def forward(self, x):\n",
    "        x = F.sigmoid(self.hidden(x))\n",
    "        x = F.softmax(self.output(x), dim=1)\n",
    "        \n",
    "        return x"
   ]
  },
  {
   "cell_type": "markdown",
   "metadata": {},
   "source": [
    "#### Activation Functions \n",
    "We have already used some activation functions (e.g. sigmoid and \n",
    "\n",
    "<img src=\"images/activation_functions.png\">\n",
    "\n",
    "ReLu is almost exclusively used for hidden layers, whereas sigmoid is mostly used for binary classification and softmax for categorical classification and be used to ensure nonlinearity for the output.\n",
    "\n",
    "The network that we've defined now for several times looks like the following \n",
    "\n",
    "<img src=\"images/neural_net.png\">"
   ]
  },
  {
   "cell_type": "code",
   "execution_count": 9,
   "metadata": {},
   "outputs": [
    {
     "data": {
      "text/plain": [
       "Network(\n",
       "  (fc1): Linear(in_features=784, out_features=128, bias=True)\n",
       "  (fc2): Linear(in_features=128, out_features=64, bias=True)\n",
       "  (fc3): Linear(in_features=64, out_features=10, bias=True)\n",
       ")"
      ]
     },
     "execution_count": 9,
     "metadata": {},
     "output_type": "execute_result"
    }
   ],
   "source": [
    "class Network(nn.Module):\n",
    "    def __init__(self):\n",
    "        super().__init__()\n",
    "        # defining layers\n",
    "        self.fc1 = nn.Linear(784, 128)\n",
    "        self.fc2 = nn.Linear(128, 64)\n",
    "        self.fc3 = nn.Linear(64, 10)\n",
    "               \n",
    "    def forward(self, x):\n",
    "        ''' Forward pass though the net\n",
    "        returns output '''\n",
    "        \n",
    "        x = self.fc1(x)\n",
    "        x = F.relu(x)\n",
    "        x = self.fc2(x)\n",
    "        x = F.relu(x)\n",
    "        x = self.fc3(x)\n",
    "        x = F.softmax(x, dim=1)\n",
    "        \n",
    "        return x\n",
    "\n",
    "model = Network()\n",
    "model"
   ]
  },
  {
   "cell_type": "markdown",
   "metadata": {},
   "source": [
    "#### Initializing weights and biases\n",
    "The weights are automatically initialized but it's possible to customize them. The weights and biases are tensors attached to the layer we defined and can be scaled using the following commands."
   ]
  },
  {
   "cell_type": "code",
   "execution_count": 10,
   "metadata": {},
   "outputs": [
    {
     "name": "stdout",
     "output_type": "stream",
     "text": [
      "torch.Size([128, 784])\n",
      "torch.Size([128])\n"
     ]
    },
    {
     "data": {
      "text/plain": [
       "tensor([[-0.0058, -0.0050,  0.0206,  ..., -0.0043, -0.0184,  0.0231],\n",
       "        [ 0.0055, -0.0014, -0.0102,  ...,  0.0119,  0.0069, -0.0229],\n",
       "        [ 0.0037, -0.0108,  0.0077,  ...,  0.0095,  0.0066,  0.0025],\n",
       "        ...,\n",
       "        [-0.0010,  0.0228, -0.0151,  ...,  0.0157,  0.0083,  0.0073],\n",
       "        [-0.0031, -0.0107,  0.0140,  ..., -0.0056,  0.0221, -0.0043],\n",
       "        [ 0.0162, -0.0184,  0.0040,  ...,  0.0009, -0.0077,  0.0072]])"
      ]
     },
     "execution_count": 10,
     "metadata": {},
     "output_type": "execute_result"
    }
   ],
   "source": [
    "print(model.fc1.weight.shape) # Call weight for first layer\n",
    "print(model.fc1.bias.shape) # Call Bias for first layer\n",
    "\n",
    "## Modify them \n",
    "model.fc1.bias.data.fill_(0) # Set them to zero\n",
    "\n",
    "# sample from random normal with standard dev = 0.01\n",
    "model.fc1.weight.data.normal_(std=0.01)"
   ]
  },
  {
   "cell_type": "markdown",
   "metadata": {},
   "source": [
    "#### Forward Pass"
   ]
  },
  {
   "cell_type": "code",
   "execution_count": 11,
   "metadata": {},
   "outputs": [
    {
     "data": {
      "image/png": "[encoded data removed]",
      "text/plain": [
       "<matplotlib.figure.Figure at 0x2c692976b70>"
      ]
     },
     "metadata": {
      "image/png": {
       "height": 224,
       "width": 423
      },
      "needs_background": "light"
     },
     "output_type": "display_data"
    }
   ],
   "source": [
    "dataiter = iter(trainloader)\n",
    "images, labels = dataiter.next()\n",
    "\n",
    "# Resize images into a 1D vector\n",
    "# new shape is (batch size, color channels, \n",
    "#image pixels)\n",
    "images.resize_(64, 1, 784)\n",
    "\n",
    "# Forward pass through the network\n",
    "img_idx = 0\n",
    "\n",
    "# probability for image with index img_idx\n",
    "ps = model.forward(images[img_idx,:])\n",
    "img = images[img_idx]\n",
    "helper.view_classify(img.view(1,28,28), ps)"
   ]
  },
  {
   "cell_type": "markdown",
   "metadata": {},
   "source": [
    "Note that our network still has no idead what this digit is and the weights are random. The network requried training, which will be our next step."
   ]
  },
  {
   "cell_type": "markdown",
   "metadata": {},
   "source": [
    "#### Using `nn.Sequential`\n",
    "\n",
    "PyTorch provides a convenient way to build networks like this where a tensor is passed sequentially through operations, `nn.Sequential` ([documentation](https://pytorch.org/docs/master/nn.html#torch.nn.Sequential)). Using this to build the equivalent network. "
   ]
  },
  {
   "cell_type": "code",
   "execution_count": 12,
   "metadata": {},
   "outputs": [
    {
     "name": "stdout",
     "output_type": "stream",
     "text": [
      "Sequential(\n",
      "  (0): Linear(in_features=784, out_features=128, bias=True)\n",
      "  (1): ReLU()\n",
      "  (2): Linear(in_features=128, out_features=64, bias=True)\n",
      "  (3): ReLU()\n",
      "  (4): Linear(in_features=64, out_features=10, bias=True)\n",
      "  (5): Softmax()\n",
      ")\n"
     ]
    },
    {
     "data": {
      "image/png": "[encoded data removed]",
      "text/plain": [
       "<matplotlib.figure.Figure at 0x2c6969e6e10>"
      ]
     },
     "metadata": {
      "image/png": {
       "height": 224,
       "width": 423
      },
      "needs_background": "light"
     },
     "output_type": "display_data"
    }
   ],
   "source": [
    "# Define input size, hidden layer and output size\n",
    "input_size = 784\n",
    "hidden_sizes = [128, 64]\n",
    "output_size = 10\n",
    "\n",
    "# Build a feed-forward network\n",
    "model = nn.Sequential(nn.Linear(input_size, hidden_sizes[0]),\n",
    "                      nn.ReLU(),\n",
    "                      nn.Linear(hidden_sizes[0], hidden_sizes[1]),\n",
    "                      nn.ReLU(),\n",
    "                      nn.Linear(hidden_sizes[1], output_size),\n",
    "                      nn.Softmax(dim=1))\n",
    "print(model)\n",
    "\n",
    "# Forward pass through the network\n",
    "images, labels = next(iter(trainloader))\n",
    "images.resize_(images.shape[0], 1, 784)\n",
    "ps = model.forward(images[0,:])\n",
    "helper.view_classify(images[0].view(1, 28, 28), ps)"
   ]
  },
  {
   "cell_type": "code",
   "execution_count": 13,
   "metadata": {},
   "outputs": [
    {
     "name": "stdout",
     "output_type": "stream",
     "text": [
      "Linear(in_features=784, out_features=128, bias=True)\n"
     ]
    },
    {
     "data": {
      "text/plain": [
       "Parameter containing:\n",
       "tensor([[-1.8525e-02,  2.0407e-02, -2.7130e-03,  ..., -3.4824e-02,\n",
       "          3.4488e-02, -5.9644e-03],\n",
       "        [-1.1804e-02, -1.9799e-02, -1.7242e-02,  ...,  2.6892e-02,\n",
       "         -1.6713e-02,  2.4640e-03],\n",
       "        [-2.3732e-02, -4.9551e-03, -1.1314e-02,  ..., -3.3069e-02,\n",
       "         -2.2066e-02, -8.9660e-04],\n",
       "        ...,\n",
       "        [ 1.4201e-02,  2.4515e-02, -5.0274e-03,  ...,  1.7684e-03,\n",
       "          1.8343e-02,  1.6134e-02],\n",
       "        [ 2.5678e-02,  2.2979e-02, -6.6634e-05,  ...,  2.7585e-02,\n",
       "         -1.4235e-02, -2.4773e-02],\n",
       "        [-9.6825e-03,  1.9159e-02,  1.3226e-02,  ...,  1.4671e-02,\n",
       "         -2.1039e-02,  2.0243e-02]], requires_grad=True)"
      ]
     },
     "execution_count": 13,
     "metadata": {},
     "output_type": "execute_result"
    }
   ],
   "source": [
    "# show first layer of the model and weight parameters\n",
    "print(model[0])\n",
    "model[0].weight"
   ]
  },
  {
   "cell_type": "markdown",
   "metadata": {},
   "source": [
    "We can also pass in an `OrderedDict` to name the individual layers and operations, instead of using incremental integers. Note that dictionary keys must be unique, so each operation must have a different name."
   ]
  },
  {
   "cell_type": "code",
   "execution_count": 14,
   "metadata": {},
   "outputs": [
    {
     "name": "stdout",
     "output_type": "stream",
     "text": [
      "Complete model:\n",
      " Sequential(\n",
      "  (fc1): Linear(in_features=784, out_features=128, bias=True)\n",
      "  (relu1): ReLU()\n",
      "  (fc2): Linear(in_features=128, out_features=64, bias=True)\n",
      "  (relu2): ReLU()\n",
      "  (output): Linear(in_features=64, out_features=10, bias=True)\n",
      "  (softmax): Softmax()\n",
      ")\n",
      "\n",
      "First layer:\n",
      " Linear(in_features=784, out_features=128, bias=True)\n",
      "\n",
      "First layer (alternatively):\n",
      " Linear(in_features=784, out_features=128, bias=True)\n"
     ]
    }
   ],
   "source": [
    "from collections import OrderedDict\n",
    "model = nn.Sequential(OrderedDict([\n",
    "                      ('fc1', nn.Linear(input_size, hidden_sizes[0])),\n",
    "                      ('relu1', nn.ReLU()),\n",
    "                      ('fc2', nn.Linear(hidden_sizes[0], hidden_sizes[1])),\n",
    "                      ('relu2', nn.ReLU()),\n",
    "                      ('output', nn.Linear(hidden_sizes[1], output_size)),\n",
    "                      ('softmax', nn.Softmax(dim=1))]))\n",
    "\n",
    "print(\"Complete model:\\n\",model)\n",
    "print(\"\\nFirst layer:\\n\",model[0])\n",
    "\n",
    "# Layers can be accessed by name\n",
    "print(\"\\nFirst layer (alternatively):\\n\",model.fc1)"
   ]
  }
 ],
 "metadata": {
  "kernelspec": {
   "display_name": "Python [conda env:Anaconda3]",
   "language": "python",
   "name": "conda-env-Anaconda3-py"
  },
  "language_info": {
   "codemirror_mode": {
    "name": "ipython",
    "version": 3
   },
   "file_extension": ".py",
   "mimetype": "text/x-python",
   "name": "python",
   "nbconvert_exporter": "python",
   "pygments_lexer": "ipython3",
   "version": "3.6.6"
  }
 },
 "nbformat": 4,
 "nbformat_minor": 2
}
