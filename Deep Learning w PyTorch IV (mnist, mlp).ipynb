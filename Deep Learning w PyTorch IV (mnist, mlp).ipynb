{
 "cells": [
  {
   "cell_type": "markdown",
   "metadata": {},
   "source": [
    "# Deep Learning w PyTorch IV (mnist, mlp)\n",
    "- Part I: [Deep Learning w PyTorch I (intro)](https://github.com/tm1611/Deep-Learning/blob/master/Deep%20Learning%20w%20PyTorch%20I%20(intro).ipynb)\n",
    "- Part II: [Deep Learning w PyTorch II (define a nn)](https://github.com/tm1611/Deep-Learning/blob/master/Deep%20Learning%20w%20PyTorch%20II%20(define%20a%20nn).ipynb)\n",
    "- Part III: [Deep Learning w PyTorch III (training nn, theory)](https://github.com/tm1611/Deep-Learning/blob/master/Deep%20Learning%20w%20PyTorch%20III%20(training%20nn%2C%20theory).ipynb)\n",
    "- Part V: [Deep Learning w PyTorch V (fmnist, mlp, inference and validation)](https://github.com/tm1611/Deep-Learning/blob/master/Deep%20Learning%20w%20PyTorch%20V%20(fmnist%2C%20mlp%2C%20inference%20and%20validation).ipynb)\n",
    "\n",
    "\n",
    "## 1. Introduction\n",
    "Our next step is to demonstrate how a neural network can be trained on the [mnist data](https://en.wikipedia.org/wiki/MNIST_database). We will see how to fit a model before moving on to inference, validation and other topics.\n",
    "\n",
    "The objective is to identify handwritten numbers using a multilayer perceptron neural network with PyTorch."
   ]
  },
  {
   "cell_type": "code",
   "execution_count": 1,
   "metadata": {},
   "outputs": [],
   "source": [
    "# torch imports\n",
    "import torch\n",
    "from torch import nn\n",
    "from torchvision import datasets, transforms\n",
    "from torch import optim\n",
    "\n",
    "# visualizations\n",
    "import helper\n",
    "%matplotlib inline"
   ]
  },
  {
   "cell_type": "markdown",
   "metadata": {},
   "source": [
    "## 2. The Data\n",
    "Import the data from `datasets.MNIST()`, define a transformation to normalize the data, use `DataLoader()` for importing a batch of images."
   ]
  },
  {
   "cell_type": "code",
   "execution_count": 2,
   "metadata": {},
   "outputs": [],
   "source": [
    "# Transform to normalize the data\n",
    "transform = transforms.Compose([transforms.ToTensor(),\n",
    "                                transforms.Normalize((0.5, 0.5, 0.5), (0.5, 0.5, 0.5)),\n",
    "                              ])\n",
    "\n",
    "# Download Data \n",
    "trainset = datasets.MNIST('~/.pytorch/MNIST_data/', \n",
    "                          download=True, \n",
    "                          train=True, \n",
    "                          transform=transform)\n",
    "\n",
    "# Define DataLoader\n",
    "trainloader = torch.utils.data.DataLoader(trainset, \n",
    "                                          batch_size=64, \n",
    "                                          shuffle=True)"
   ]
  },
  {
   "cell_type": "markdown",
   "metadata": {},
   "source": [
    "## 3. The Model\n",
    "- Define a multilayer perceptron neural network: `model = nn.Sequential(...)` with linear layers (`nn.Linear()`)\n",
    "- Define loss function: `criterion = nn.NLLLoss()` \n",
    "- Define optimizer: `optimizer = optim.SGD(...)`\n",
    "- use a for-loop: `for e in range(epochs): ...` that tracks the `running_loss = 0`\n",
    " - load images `for images, labels in trainloader:`\n",
    " - flatten images`images = images.reshape(images.shape[0], -1)\n",
    " - set gradients to zero: `optimizer.zero_grad()`\n",
    " - forward pass: `output = model.forward(iamges)`\n",
    " - calculate loss: `loss = criterion(output, labels)`\n",
    " - calculate gradients of loss function: `loss.backward()`\n",
    " - take one step towards steepest descent: `optimizer.step()`\n",
    "- Add loss to running_loss: `running_loss += loss.item()`"
   ]
  },
  {
   "cell_type": "code",
   "execution_count": 3,
   "metadata": {},
   "outputs": [
    {
     "name": "stdout",
     "output_type": "stream",
     "text": [
      "Epoch: 1/20\n",
      "Training loss: 0.3433\n",
      "Epoch: 2/20\n",
      "Training loss: 0.189\n",
      "Epoch: 3/20\n",
      "Training loss: 0.1635\n",
      "Epoch: 4/20\n",
      "Training loss: 0.1532\n",
      "Epoch: 5/20\n",
      "Training loss: 0.1321\n",
      "Epoch: 6/20\n",
      "Training loss: 0.1305\n",
      "Epoch: 7/20\n",
      "Training loss: 0.1282\n",
      "Epoch: 8/20\n",
      "Training loss: 0.1189\n",
      "Epoch: 9/20\n",
      "Training loss: 0.1121\n",
      "Epoch: 10/20\n",
      "Training loss: 0.1137\n",
      "Epoch: 11/20\n",
      "Training loss: 0.1104\n",
      "Epoch: 12/20\n",
      "Training loss: 0.1078\n",
      "Epoch: 13/20\n",
      "Training loss: 0.1061\n",
      "Epoch: 14/20\n",
      "Training loss: 0.1046\n",
      "Epoch: 15/20\n",
      "Training loss: 0.0953\n",
      "Epoch: 16/20\n",
      "Training loss: 0.0979\n",
      "Epoch: 17/20\n",
      "Training loss: 0.0992\n",
      "Epoch: 18/20\n",
      "Training loss: 0.0875\n",
      "Epoch: 19/20\n",
      "Training loss: 0.0888\n",
      "Epoch: 20/20\n",
      "Training loss: 0.0915\n"
     ]
    }
   ],
   "source": [
    "# Parameters\n",
    "epochs = 20\n",
    "\n",
    "# Model\n",
    "model = nn.Sequential(nn.Linear(784, 128),\n",
    "                      nn.ReLU(),\n",
    "                      nn.Linear(128, 64),\n",
    "                      nn.ReLU(),\n",
    "                      nn.Linear(64, 10),\n",
    "                      nn.LogSoftmax(dim=1))\n",
    "                      \n",
    "# criterion\n",
    "criterion = nn.NLLLoss()\n",
    "optimizer = optim.Adam(model.parameters(), lr = 0.005)\n",
    "\n",
    "# Gradient descent\n",
    "for e in range(epochs):\n",
    "    running_loss = 0\n",
    "    for images, labels in trainloader:\n",
    "        images = images.reshape(images.shape[0], -1)\n",
    "        optimizer.zero_grad()\n",
    "        \n",
    "        # forward pass\n",
    "        output = model.forward(images)\n",
    "        loss = criterion(output, labels)\n",
    "        \n",
    "        # backward pass\n",
    "        loss.backward()\n",
    "        optimizer.step()\n",
    "        \n",
    "        running_loss += loss.item()\n",
    "    else:\n",
    "        print(\"Epoch: {}/{}\".format(e+1, epochs))\n",
    "        train_loss = running_loss / len(trainloader)\n",
    "        print(f\"Training loss:\", round(train_loss,4))"
   ]
  },
  {
   "cell_type": "markdown",
   "metadata": {},
   "source": [
    "## 4. Results\n",
    "Next, we'll check the predictions of this model. We'll turn off gradients to speed up the process (and we don't need them here anyway). We can do this temporarily as:\n",
    "```python\n",
    "with torch.no_grad():\n",
    "    logps = model.forward(img)\n",
    "```\n",
    "The combination of `nn.NLLLoss()` (see [documentation](https://pytorch.org/docs/stable/nn.html#nllloss)) which is the negative log likelihood loss with `nn.LogSoftmax(dim=1)` yields log-probabilities. Taking the exponential gives us probabilities for each class."
   ]
  },
  {
   "cell_type": "code",
   "execution_count": 4,
   "metadata": {},
   "outputs": [
    {
     "data": {
      "image/png": "[encoded data removed]",
      "text/plain": [
       "<matplotlib.figure.Figure at 0x1b8c1f127f0>"
      ]
     },
     "metadata": {
      "needs_background": "light"
     },
     "output_type": "display_data"
    }
   ],
   "source": [
    "# load one batch\n",
    "images, labels = next(iter(trainloader))\n",
    "\n",
    "# Take first image\n",
    "img = images[0].reshape(1, 784)\n",
    "\n",
    "# Turn off gradients\n",
    "with torch.no_grad():\n",
    "    output = model.forward(img)\n",
    "    \n",
    "# take exp\n",
    "probs = torch.exp(output)\n",
    "\n",
    "# Visualize results with helper\n",
    "helper.view_classify(img.view(1, 28, 28), probs)"
   ]
  },
  {
   "cell_type": "markdown",
   "metadata": {},
   "source": [
    "## 5. Next steps\n",
    "In the next notebook, we'll introduce a related dataset (fashion mnist). After fitting a neural network model for prediction we'll take one step further and use training curves for inference and validating the fit of the model on unseen data calculating the accuracy. Moreover, we'll use dropout to improve the generalizability of the model.  "
   ]
  }
 ],
 "metadata": {
  "kernelspec": {
   "display_name": "Python [conda env:Anaconda3]",
   "language": "python",
   "name": "conda-env-Anaconda3-py"
  },
  "language_info": {
   "codemirror_mode": {
    "name": "ipython",
    "version": 3
   },
   "file_extension": ".py",
   "mimetype": "text/x-python",
   "name": "python",
   "nbconvert_exporter": "python",
   "pygments_lexer": "ipython3",
   "version": "3.6.6"
  }
 },
 "nbformat": 4,
 "nbformat_minor": 2
}
