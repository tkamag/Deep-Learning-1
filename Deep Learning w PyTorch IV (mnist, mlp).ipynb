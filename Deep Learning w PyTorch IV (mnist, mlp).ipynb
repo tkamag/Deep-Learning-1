{
 "cells": [
  {
   "cell_type": "markdown",
   "metadata": {},
   "source": [
    "# Deep Learning w PyTorch IV (mnist, mlp)\n",
    "- Part 1: ...\n",
    "\n",
    "## 1. Introduction\n",
    "The following notebook briefly demonstrates how the previously introduced methodology can be applied to the [mnist data](https://en.wikipedia.org/wiki/MNIST_database). It is just to show briefly how to fit a basic model before moving on to inference, validation and other topics.\n",
    "\n",
    "The objective is to identify the handwritten number using a multilayer perceptron neural network with PyTorch"
   ]
  },
  {
   "cell_type": "code",
   "execution_count": 1,
   "metadata": {},
   "outputs": [],
   "source": [
    "# torch imports\n",
    "import torch\n",
    "from torch import nn\n",
    "from torchvision import datasets, transforms\n",
    "from torch import optim\n",
    "\n",
    "# visualizations\n",
    "import helper\n",
    "%matplotlib inline"
   ]
  },
  {
   "cell_type": "markdown",
   "metadata": {},
   "source": [
    "## 2. The Data\n",
    "Import the data from `datasets.MNIST()`, define a transformation to normalize the data, use `DataLoader()` for importing a batch of images"
   ]
  },
  {
   "cell_type": "code",
   "execution_count": 2,
   "metadata": {},
   "outputs": [],
   "source": [
    "# Transform to normalize the data\n",
    "transform = transforms.Compose([transforms.ToTensor(),\n",
    "                                transforms.Normalize((0.5, 0.5, 0.5), (0.5, 0.5, 0.5)),\n",
    "                              ])\n",
    "\n",
    "# Download Data \n",
    "trainset = datasets.MNIST('~/.pytorch/MNIST_data/', \n",
    "                          download=True, \n",
    "                          train=True, \n",
    "                          transform=transform)\n",
    "\n",
    "# Define DataLoader\n",
    "trainloader = torch.utils.data.DataLoader(trainset, \n",
    "                                          batch_size=64, \n",
    "                                          shuffle=True)"
   ]
  },
  {
   "cell_type": "markdown",
   "metadata": {},
   "source": [
    "## 3. The Model\n",
    "- Define a multilayer perceptron neural network: `model = nn.Sequential(...)`\n",
    "- Define loss function: `criterion = nn.NLLLoss()` \n",
    "- Define optimizer: `optimizer = optim.SGD(...)`\n",
    "- use a for-loop: `for e in range(epochs): ...` that tracks the `running_loss = 0`\n",
    " - load images `for images, labels in trainloader:`\n",
    " - flatten images`images = images.reshape(images.shape[0], -1)\n",
    " - set gradients to zero: `optimizer.zero_grad()`\n",
    " - forward pass: `output = model.forward(iamges)`\n",
    " - calculate loss: `loss = criterion(output, labels)`\n",
    " - calculate gradients of loss function: `loss.backward()`\n",
    " - take one step towards steepest descent: `optimizer.step()`\n",
    "- Add loss to running_loss: `running_loss += loss.item()"
   ]
  },
  {
   "cell_type": "code",
   "execution_count": 3,
   "metadata": {},
   "outputs": [
    {
     "name": "stdout",
     "output_type": "stream",
     "text": [
      "Epoch: 1/20\n",
      "Training loss: 0.3436\n",
      "Epoch: 2/20\n",
      "Training loss: 0.1878\n",
      "Epoch: 3/20\n",
      "Training loss: 0.1603\n",
      "Epoch: 4/20\n",
      "Training loss: 0.1434\n",
      "Epoch: 5/20\n",
      "Training loss: 0.1405\n",
      "Epoch: 6/20\n",
      "Training loss: 0.1279\n",
      "Epoch: 7/20\n",
      "Training loss: 0.1248\n",
      "Epoch: 8/20\n",
      "Training loss: 0.1162\n",
      "Epoch: 9/20\n",
      "Training loss: 0.1118\n",
      "Epoch: 10/20\n",
      "Training loss: 0.1116\n",
      "Epoch: 11/20\n",
      "Training loss: 0.1089\n",
      "Epoch: 12/20\n",
      "Training loss: 0.1018\n",
      "Epoch: 13/20\n",
      "Training loss: 0.1015\n",
      "Epoch: 14/20\n",
      "Training loss: 0.0949\n",
      "Epoch: 15/20\n",
      "Training loss: 0.0938\n",
      "Epoch: 16/20\n",
      "Training loss: 0.0907\n",
      "Epoch: 17/20\n",
      "Training loss: 0.0912\n",
      "Epoch: 18/20\n",
      "Training loss: 0.0888\n",
      "Epoch: 19/20\n",
      "Training loss: 0.0879\n",
      "Epoch: 20/20\n",
      "Training loss: 0.0926\n"
     ]
    }
   ],
   "source": [
    "# Parameters\n",
    "epochs = 20\n",
    "\n",
    "# Model\n",
    "model = nn.Sequential(nn.Linear(784, 128),\n",
    "                      nn.ReLU(),\n",
    "                      nn.Linear(128, 64),\n",
    "                      nn.ReLU(),\n",
    "                      nn.Linear(64, 10),\n",
    "                      nn.LogSoftmax(dim=1))\n",
    "                      \n",
    "# criterion\n",
    "criterion = nn.NLLLoss()\n",
    "optimizer = optim.Adam(model.parameters(), lr = 0.005)\n",
    "\n",
    "# Gradient descent\n",
    "for e in range(epochs):\n",
    "    running_loss = 0\n",
    "    for images, labels in trainloader:\n",
    "        images = images.reshape(images.shape[0], -1)\n",
    "        optimizer.zero_grad()\n",
    "        \n",
    "        # forward pass\n",
    "        output = model.forward(images)\n",
    "        loss = criterion(output, labels)\n",
    "        \n",
    "        # backward pass\n",
    "        loss.backward()\n",
    "        optimizer.step()\n",
    "        \n",
    "        running_loss += loss.item()\n",
    "    else:\n",
    "        print(\"Epoch: {}/{}\".format(e+1, epochs))\n",
    "        train_loss = running_loss / len(trainloader)\n",
    "        print(f\"Training loss:\", round(train_loss,4))"
   ]
  },
  {
   "cell_type": "code",
   "execution_count": 4,
   "metadata": {},
   "outputs": [
    {
     "name": "stdout",
     "output_type": "stream",
     "text": [
      "Epoch: 1/20\n",
      "Training loss: 1.4581\n",
      "Epoch: 2/20\n",
      "Training loss: 0.5233\n",
      "Epoch: 3/20\n",
      "Training loss: 0.3928\n",
      "Epoch: 4/20\n",
      "Training loss: 0.3486\n",
      "Epoch: 5/20\n",
      "Training loss: 0.3236\n",
      "Epoch: 6/20\n",
      "Training loss: 0.3059\n",
      "Epoch: 7/20\n",
      "Training loss: 0.2921\n",
      "Epoch: 8/20\n",
      "Training loss: 0.2794\n",
      "Epoch: 9/20\n",
      "Training loss: 0.2688\n",
      "Epoch: 10/20\n",
      "Training loss: 0.2584\n",
      "Epoch: 11/20\n",
      "Training loss: 0.2479\n",
      "Epoch: 12/20\n",
      "Training loss: 0.2383\n",
      "Epoch: 13/20\n",
      "Training loss: 0.2289\n",
      "Epoch: 14/20\n",
      "Training loss: 0.2196\n",
      "Epoch: 15/20\n",
      "Training loss: 0.2109\n",
      "Epoch: 16/20\n",
      "Training loss: 0.2028\n",
      "Epoch: 17/20\n",
      "Training loss: 0.1945\n",
      "Epoch: 18/20\n",
      "Training loss: 0.1868\n",
      "Epoch: 19/20\n",
      "Training loss: 0.1798\n",
      "Epoch: 20/20\n",
      "Training loss: 0.1733\n"
     ]
    }
   ],
   "source": [
    "# Parameters\n",
    "epochs = 20\n",
    "\n",
    "# Model\n",
    "model = nn.Sequential(nn.Linear(784, 128),\n",
    "                      nn.ReLU(),\n",
    "                      nn.Linear(128, 64),\n",
    "                      nn.ReLU(),\n",
    "                      nn.Linear(64, 10),\n",
    "                      nn.LogSoftmax(dim=1))\n",
    "                      \n",
    "# criterion\n",
    "criterion = nn.NLLLoss()\n",
    "optimizer = optim.SGD(model.parameters(), lr = 0.005)\n",
    "\n",
    "# Gradient descent\n",
    "for e in range(epochs):\n",
    "    running_loss = 0\n",
    "    for images, labels in trainloader:\n",
    "        images = images.reshape(images.shape[0], -1)\n",
    "        optimizer.zero_grad()\n",
    "        \n",
    "        # forward pass\n",
    "        output = model.forward(images)\n",
    "        loss = criterion(output, labels)\n",
    "        \n",
    "        # backward pass\n",
    "        loss.backward()\n",
    "        optimizer.step()\n",
    "        \n",
    "        running_loss += loss.item()\n",
    "    else:\n",
    "        print(\"Epoch: {}/{}\".format(e+1, epochs))\n",
    "        train_loss = running_loss / len(trainloader)\n",
    "        print(f\"Training loss:\", round(train_loss,4))"
   ]
  },
  {
   "cell_type": "markdown",
   "metadata": {},
   "source": [
    "## 4. Results\n",
    "Next, we'll check the predictions of this model. We'll turn off gradients to speed this process up and we don't need them here anyway. We can do this temporarily with:\n",
    "```python\n",
    "with torch.no_grad():\n",
    "    logps = model.forward(img)\n",
    "```\n",
    "The combination of `nn.NLLLoss()` (see [documentation](https://pytorch.org/docs/stable/nn.html#nllloss)) which is the negative log likelihood loss with `nn.LogSoftmax(dim=1)` yields log-probabilities. Taking the exponential gives us probabilities for each class."
   ]
  },
  {
   "cell_type": "code",
   "execution_count": 5,
   "metadata": {},
   "outputs": [
    {
     "data": {
      "image/png": "[encoded data removed]",
      "text/plain": [
       "<matplotlib.figure.Figure at 0x193e6f7d358>"
      ]
     },
     "metadata": {
      "needs_background": "light"
     },
     "output_type": "display_data"
    }
   ],
   "source": [
    "# load one batch\n",
    "images, labels = next(iter(trainloader))\n",
    "\n",
    "# Take first image\n",
    "img = images[0].reshape(1, 784)\n",
    "\n",
    "# Turn off gradients\n",
    "with torch.no_grad():\n",
    "    output = model.forward(img)\n",
    "    \n",
    "# take exp\n",
    "probs = torch.exp(output)\n",
    "\n",
    "# Visualize results with helper\n",
    "helper.view_classify(img.view(1, 28, 28), probs)"
   ]
  },
  {
   "cell_type": "markdown",
   "metadata": {},
   "source": [
    "## 5. Next steps\n",
    "In the next notebook, we'll introduce a related dataset (fashion mnist) and built on what we have done so far. After fitting a neural network model for prediction we'll take one step further and use some methods like training curves for inference and validating the fit of the model on unseen data. Moreover, we'll use dropout to improve the generalizability of the model.  "
   ]
  }
 ],
 "metadata": {
  "kernelspec": {
   "display_name": "Python [conda env:Anaconda3]",
   "language": "python",
   "name": "conda-env-Anaconda3-py"
  },
  "language_info": {
   "codemirror_mode": {
    "name": "ipython",
    "version": 3
   },
   "file_extension": ".py",
   "mimetype": "text/x-python",
   "name": "python",
   "nbconvert_exporter": "python",
   "pygments_lexer": "ipython3",
   "version": "3.6.6"
  }
 },
 "nbformat": 4,
 "nbformat_minor": 2
}
